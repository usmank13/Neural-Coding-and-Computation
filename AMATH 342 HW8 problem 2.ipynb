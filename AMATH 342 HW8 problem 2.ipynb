{
 "cells": [
  {
   "cell_type": "markdown",
   "metadata": {},
   "source": [
    "# <h1><center> HW 8 AMATH 342 </center></h1>\n",
    "\n",
    "Working together is absolutely encouraged.\n",
    "\n",
    "Turn in a write up with your solutions including discussion, plots, and code. Full points require that this is legible, understandably explained, and reasonably organized. \n",
    "\n",
    "If you have difficulty with the assignment, please $\\textbf{come to office hours and get help!}$ "
   ]
  },
  {
   "cell_type": "markdown",
   "metadata": {},
   "source": [
    "$\\textbf{Problem 1: Building a Neural Net}$\n",
    "\n",
    "Create a two layer neural network which can solve the XOR problem. To receive full credit, you need do the following\n",
    "* Write down the weights, theta's and the g's for each of your 3 perceptrons. (A total of 9 numbers and 3 functions, although it would be easiest to just reuse the same g)\n",
    "* Just for the three points (0,0), (1,0), (1, 1), show the computations that show that your network really outputs [0, 1, 0] for the three data points. That is, write the exact computations to show how the initial x1 and x2's get transformed to a binary label.\n",
    "\n",
    "<br><br><br><br><br><br>"
   ]
  },
  {
   "cell_type": "markdown",
   "metadata": {},
   "source": [
    "\n",
    "\n",
    "\n",
    "\n",
    "\n",
    "\n",
    "$\\textbf{Problem 2: Training a Perceptron}$ "
   ]
  },
  {
   "cell_type": "markdown",
   "metadata": {},
   "source": [
    "Train a perceptron using $\\textit{gradient descent}$ to classify the following data. \n",
    "\n",
    "The data measure septal length (column 1) and petal length (column 2) of two types of flowers. These data are stored in the variable '$\\textbf{X}$'. Your model should take $\\textit{septal length}$ and $\\textit{petal length}$ as inputs. Your model should output 1 if the flower is a setosa or -1 if\n",
    "it is a versicolor (two types of Iris flower). These data are in $\\textbf{y}$. Both have been loaded in the cell below for you. There are 50 samples of each flower (so $\\textbf{X}$ is 100 $\\times$ 2). Here are some steps to help guide you.\n",
    "\n",
    "\n",
    "A) Plot the data. Color code the data so that the  setosa flowers are one color and versicolor flowers are a different color. Can a perceptron be used for these data? Why? \n",
    "\n",
    "B) Write a loop which implements the gradient descent algorithm. <br>\n",
    "$\\hspace{4mm}$    a) Initialize your weights and bias to random values (say -1 $\\leq$ w $\\leq$ 1). <br>\n",
    "$\\hspace{4mm}$    b) Iterate through all the data points in $\\textbf{X}$ and update the weights and bias for EACH data point. \n",
    "\n",
    "C) What is the error rate of your perceptron after 10 steps? 30? (You can also do number of misclassifications instead of error rate)\n",
    "\n",
    "D) Sometimes, we will train over many \"epochs.\" That is, we loop over all the data several times and just continue using gradient descent. What is the error rate after training over two epochs? \n",
    "\n",
    "E) How does this error rate change as a function of learning rate? Plot the error as a function of the learning rate for 3-5 different learning rates (hint: try logspace to choose learning rates between 0 and 1). Train over at least one epoch on the data. \n",
    "\n",
    "\n",
    "\n",
    "<br><br><br><br>\n",
    "HINTS: <br><br>\n",
    "-Use a learning rate between 0 and 1. <br> <br>\n",
    "-For your perceptron, you can use the following for updating on each step (this is similar to the learning rule we saw in class):\n",
    "\n",
    "$\\Delta w = \\eta(t_{i}-o_{i}) * x_{i}$ for the weights and <br>\n",
    "$\\Delta \\theta = \\eta(t_i-o_i)$ for the bias, where $o_{i}$ is your output, $t_{i}$ is your target output, $\\eta$ is your learning rate, and $x_{i}$ is your input. <br><br><br>\n",
    "-Remember to update both weights: $w_1$ and $w_2$ in your loop.  "
   ]
  },
  {
   "cell_type": "code",
   "execution_count": null,
   "metadata": {},
   "outputs": [],
   "source": []
  },
  {
   "cell_type": "code",
   "execution_count": 189,
   "metadata": {},
   "outputs": [
    {
     "name": "stdout",
     "output_type": "stream",
     "text": [
      "[5.1 1.4]\n"
     ]
    },
    {
     "data": {
      "image/png": "[encoded data removed]",
      "text/plain": [
       "<Figure size 432x288 with 1 Axes>"
      ]
     },
     "metadata": {
      "needs_background": "light"
     },
     "output_type": "display_data"
    }
   ],
   "source": [
    "import pandas as pd\n",
    "import numpy as np\n",
    "import matplotlib.pyplot as plt\n",
    "\n",
    "#%% Load data \n",
    "df = pd.read_csv('https://archive.ics.uci.edu/ml/machine-learning-databases/iris/iris.data', header=None)\n",
    "y = df.iloc[0:100, 4].values\n",
    "y = np.where(y == 'Iris-setosa', 1, -1)\n",
    "\n",
    "# sepal length and petal length\n",
    "X = df.iloc[0:100, [0,2]].values\n",
    "\n",
    "plt.figure()\n",
    "plt.xlabel('Septal length')\n",
    "plt.ylabel('Petal length')\n",
    "plt.scatter(X[:,0], X[:,1], c= y)\n",
    "print(X[0,:])\n",
    "\n",
    "\n",
    "def Perceptron(weights,inputs,bias):   #You can use this to return the output of the Perceptron at each step! Hint: use np.sign (1/-1) instead of 1/0\n",
    "    \n",
    "    return np.sign(np.dot(weights,inputs) - bias)"
   ]
  },
  {
   "cell_type": "markdown",
   "metadata": {},
   "source": [
    "A) A single layer perceptron can be used to classify this data because it is clearly linearly separable; i.e. a clear line can be drawn that can distinguish between setosa and versicolor flowers."
   ]
  },
  {
   "cell_type": "code",
   "execution_count": 240,
   "metadata": {},
   "outputs": [
    {
     "name": "stdout",
     "output_type": "stream",
     "text": [
      "Initial bias:  0\n",
      "Initial weights:  [ 0. -1.]\n",
      "Error rate,  1  epochs of training:  0.040000000000000036\n",
      "Error rate,  2  epochs of training:  0.0\n",
      "Error rate, first epoch after 10 steps:  0.4\n",
      "Error rate, first epoch after 30 steps:  0.1333333333333333\n"
     ]
    }
   ],
   "source": [
    "#Implementing gradient descent \n",
    "import random\n",
    "\n",
    "random.seed(5)  #I found this led to a convergent solution for w1, w2, bias\n",
    "wts = np.empty(2)\n",
    "wts[0] = random.randrange(-1,1)\n",
    "wts[1] = -1\n",
    "bias= random.randrange(-1,1)\n",
    "\n",
    "print(\"Initial bias: \", bias)\n",
    "print(\"Initial weights: \", wts)\n",
    "\n",
    "lr = 0.01\n",
    "\n",
    "epochs = 2\n",
    "curr_epoch = 0\n",
    "while curr_epoch < epochs:\n",
    "    num_correct = 0\n",
    "    for i in range(X.shape[0]):\n",
    "        inp = X[i,:]\n",
    "        y_tilda = Perceptron(wts, inp, bias)\n",
    "\n",
    "        #get model output, calculate gradient, and update weights\n",
    "        wts[0] += lr*inp[0]*(y[i] - y_tilda)\n",
    "        wts[1] += lr*inp[1]*(y[i] - y_tilda)\n",
    "        bias += lr*(y[i]-y_tilda)\n",
    "        \n",
    "        if (y[i] == y_tilda):\n",
    "            num_correct += 1\n",
    "        if (i == 9 and curr_epoch == 0):\n",
    "            error_10 = 1 - num_correct / 10\n",
    "        if (i == 29 and curr_epoch == 0):\n",
    "            error_30 = 1 - num_correct / 30\n",
    "            \n",
    "    error_rate_total = 1 - num_correct/100\n",
    "    print('Error rate, ', curr_epoch + 1, ' epochs of training: ', error_rate_total)\n",
    "    curr_epoch += 1\n",
    "\n",
    "    \n",
    "print('Error rate, first epoch after 10 steps: ', error_10)\n",
    "print('Error rate, first epoch after 30 steps: ', error_30)\n",
    "\n"
   ]
  },
  {
   "cell_type": "markdown",
   "metadata": {},
   "source": [
    "#### Answers to C and D:\n",
    "\n",
    "Initial bias:  0\n",
    "\n",
    "Initial weights:  [ 0. -1.]\n",
    "\n",
    "Error rate,  1  epochs of training:  0.040000000000000036\n",
    "\n",
    "Error rate,  2  epochs of training:  0.0\n",
    "\n",
    "Error rate, first epoch after 10 steps:  0.4\n",
    "\n",
    "Error rate, first epoch after 30 steps:  0.1333333333333333"
   ]
  },
  {
   "cell_type": "code",
   "execution_count": 260,
   "metadata": {},
   "outputs": [
    {
     "name": "stdout",
     "output_type": "stream",
     "text": [
      "Initial bias:  0\n",
      "Initial weights:  [ 0. -1.]\n",
      "[0.0001, 0.001, 0.01, 0.1, 1]\n",
      "Error rate,  1  epochs of training:  0.5\n",
      "Learning rate:  0.0001\n",
      "Error rate,  1  epochs of training:  0.28\n",
      "Learning rate:  0.001\n",
      "Error rate,  1  epochs of training:  0.010000000000000009\n",
      "Learning rate:  0.01\n",
      "Error rate,  1  epochs of training:  0.0\n",
      "Learning rate:  0.1\n",
      "Error rate,  1  epochs of training:  0.0\n",
      "Learning rate:  1\n",
      "[0.5, 0.28, 0.010000000000000009, 0.0, 0.0]\n"
     ]
    },
    {
     "data": {
      "text/plain": [
       "Text(0, 0.5, 'Error Rate')"
      ]
     },
     "execution_count": 260,
     "metadata": {},
     "output_type": "execute_result"
    },
    {
     "data": {
      "image/png": "[encoded data removed]",
      "text/plain": [
       "<Figure size 432x288 with 1 Axes>"
      ]
     },
     "metadata": {
      "needs_background": "light"
     },
     "output_type": "display_data"
    }
   ],
   "source": [
    "#Implementing gradient descent \n",
    "import random\n",
    "\n",
    "random.seed(5)  #I found this led to a convergent solution for w1, w2, bias\n",
    "wts = np.empty(2)\n",
    "wts[0] = random.randrange(-1,1)\n",
    "wts[1] = -1\n",
    "bias= random.randrange(-1,1)\n",
    "\n",
    "print(\"Initial bias: \", bias)\n",
    "print(\"Initial weights: \", wts)\n",
    "\n",
    "l_rates = [0.0001, 0.001, 0.01, 0.1, 1]\n",
    "error_rate_list = []\n",
    "print(l_rates)\n",
    "\n",
    "\n",
    "for lr in l_rates:\n",
    "    epochs = 1\n",
    "    curr_epoch = 0\n",
    "    while curr_epoch < epochs:\n",
    "        num_correct = 0\n",
    "        for i in range(X.shape[0]):\n",
    "            inp = X[i,:]\n",
    "            y_tilda = Perceptron(wts, inp, bias)\n",
    "\n",
    "            #get model output, calculate gradient, and update weights\n",
    "            wts[0] += lr*inp[0]*(y[i] - y_tilda)\n",
    "            wts[1] += lr*inp[1]*(y[i] - y_tilda)\n",
    "            bias += lr*(y[i]-y_tilda)\n",
    "\n",
    "            if (y[i] == y_tilda):\n",
    "                num_correct += 1\n",
    "\n",
    "        error_rate_total = 1 - num_correct/100\n",
    "        print('Error rate, ', curr_epoch + 1, ' epochs of training: ', error_rate_total)\n",
    "        print('Learning rate: ', lr)\n",
    "        \n",
    "        error_rate_list.append(error_rate_total)\n",
    "        curr_epoch += 1\n",
    "\n",
    "print(error_rate_list)\n",
    "plt.figure()\n",
    "plt.scatter(l_rates,error_rate_list)\n",
    "plt.xscale('log')\n",
    "plt.title('Error rate vs. Learning Rate (Trained over 1 Epoch)')\n",
    "plt.xlabel('Learning rate (log scale)')\n",
    "plt.ylabel('Error Rate')\n",
    "\n"
   ]
  },
  {
   "cell_type": "markdown",
   "metadata": {},
   "source": [
    "We can see clearly that as learning rate goes up, error rate goes down when training over 1 epoch. This is because with a higher learning rate, the 'steps' are larger in gradient descent, so we converge at a solution for the correct weights and biases earlier in the training phase. When the learning rate is smaller, the gradient descent steps are smaller and hence more precise, but it takes longer (more epochs or more training data) to converge to the solution for the correct weights and biases. "
   ]
  }
 ],
 "metadata": {
  "kernelspec": {
   "display_name": "Python 3",
   "language": "python",
   "name": "python3"
  },
  "language_info": {
   "codemirror_mode": {
    "name": "ipython",
    "version": 3
   },
   "file_extension": ".py",
   "mimetype": "text/x-python",
   "name": "python",
   "nbconvert_exporter": "python",
   "pygments_lexer": "ipython3",
   "version": "3.7.1"
  }
 },
 "nbformat": 4,
 "nbformat_minor": 2
}
